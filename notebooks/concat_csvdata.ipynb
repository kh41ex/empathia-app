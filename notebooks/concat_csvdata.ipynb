{
 "cells": [
  {
   "cell_type": "code",
   "execution_count": 1,
   "id": "ee00bd40",
   "metadata": {},
   "outputs": [
    {
     "name": "stdout",
     "output_type": "stream",
     "text": [
      "Final dataset contains 400846 posts.\n"
     ]
    }
   ],
   "source": [
    "import pandas as pd\n",
    "\n",
    "df1 = pd.read_csv('reddit_combined_petloss_data_20250827_2033.csv')\n",
    "df2 = pd.read_csv('reddit_combined_petloss_data_20250828_1100.csv')\n",
    "\n",
    "final_dataset = pd.concat([df1, df2], ignore_index=True)\n",
    "final_dataset.to_csv('combined_dataset_with_comments.csv', index=False)\n",
    "print(f\"Final dataset contains {len(final_dataset)} posts.\")"
   ]
  }
 ],
 "metadata": {
  "kernelspec": {
   "display_name": ".venv",
   "language": "python",
   "name": "python3"
  },
  "language_info": {
   "codemirror_mode": {
    "name": "ipython",
    "version": 3
   },
   "file_extension": ".py",
   "mimetype": "text/x-python",
   "name": "python",
   "nbconvert_exporter": "python",
   "pygments_lexer": "ipython3",
   "version": "3.11.3"
  }
 },
 "nbformat": 4,
 "nbformat_minor": 5
}
